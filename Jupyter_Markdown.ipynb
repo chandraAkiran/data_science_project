{
    "cells": [
        {
            "cell_type": "markdown",
            "metadata": {
                "collapsed": true
            },
            "source": "<H1> \nMy Jupyter Notebook on IBM Watson Studio\n"
        },
        {
            "cell_type": "markdown",
            "metadata": {},
            "source": "<b> Chandra Akash Kiran</b>\n\nStudent"
        },
        {
            "cell_type": "markdown",
            "metadata": {},
            "source": "<i>I am interested in data science because Data Science deals with enriching data and making it better for their company"
        },
        {
            "cell_type": "markdown",
            "metadata": {},
            "source": "<H3> The following code test the addtion operation"
        },
        {
            "cell_type": "code",
            "execution_count": 6,
            "metadata": {},
            "outputs": [
                {
                    "data": {
                        "text/plain": "5"
                    },
                    "execution_count": 6,
                    "metadata": {},
                    "output_type": "execute_result"
                }
            ],
            "source": "def add(a,b):\n    return a+b\nadd(2,3)"
        },
        {
            "cell_type": "markdown",
            "metadata": {},
            "source": "<h3>Machine Learning</h3>\n\n<b>Numbered List</b>\n1. ML \n2. Deep Learning \n\n<b>Bulleted List</b>\n\n* Python \n* R\n\n<b>Link</b>\n\n[Coursera](https://www.coursera.org/)\n\n<b>Image</b>\n\nInline-style:\n![alt text](https://github.com/adam-p/markdown-here/raw/master/src/common/images/icon48.png \"Logo Title Text 1\")\n\n<b>Youtube Link</b>\n\n[![IMAGE ALT TEXT HERE](http://img.youtube.com/vi/YOUTUBE_VIDEO_ID_HERE/0.jpg)](http://www.youtube.com/watch?v=YOUTUBE_VIDEO_ID_HERE)\n\n\n<b>Table</b>\n\n|1|2|3|\n|-------------------|----------------------|----------------------:|\n|Supervised Learning| Unsupervised Learning| Reinforcement learning|\n|Labeled data|Unlabeled data |No predefine data|\n\n\n\n\n\n\n\n\n\n\n\n"
        },
        {
            "cell_type": "code",
            "execution_count": null,
            "metadata": {},
            "outputs": [],
            "source": ""
        }
    ],
    "metadata": {
        "kernelspec": {
            "display_name": "Python 3.8",
            "language": "python",
            "name": "python3"
        },
        "language_info": {
            "codemirror_mode": {
                "name": "ipython",
                "version": 3
            },
            "file_extension": ".py",
            "mimetype": "text/x-python",
            "name": "python",
            "nbconvert_exporter": "python",
            "pygments_lexer": "ipython3",
            "version": "3.8.10"
        }
    },
    "nbformat": 4,
    "nbformat_minor": 1
}